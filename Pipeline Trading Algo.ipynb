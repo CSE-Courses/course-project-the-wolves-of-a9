{
 "cells": [
  {
   "cell_type": "code",
   "execution_count": 1,
   "metadata": {},
   "outputs": [],
   "source": [
    "from quantopian.pipeline import Pipeline\n",
    "from quantopian.research import run_pipeline\n",
    "from quantopian.pipeline.data.builtin import USEquityPricing"
   ]
  },
  {
   "cell_type": "code",
   "execution_count": null,
   "metadata": {},
   "outputs": [],
   "source": []
  },
  {
   "cell_type": "code",
   "execution_count": 2,
   "metadata": {},
   "outputs": [],
   "source": [
    "from quantopian.pipeline.filters import Q1500US"
   ]
  },
  {
   "cell_type": "code",
   "execution_count": 3,
   "metadata": {},
   "outputs": [],
   "source": [
    "universe = Q1500US()"
   ]
  },
  {
   "cell_type": "code",
   "execution_count": 4,
   "metadata": {},
   "outputs": [],
   "source": [
    "from quantopian.pipeline.data import morningstar"
   ]
  },
  {
   "cell_type": "code",
   "execution_count": 5,
   "metadata": {},
   "outputs": [],
   "source": [
    "sector = morningstar.asset_classification.morningstar_sector_code.latest"
   ]
  },
  {
   "cell_type": "code",
   "execution_count": 6,
   "metadata": {},
   "outputs": [],
   "source": [
    "energy_sector = sector.eq(309)"
   ]
  },
  {
   "cell_type": "code",
   "execution_count": 7,
   "metadata": {},
   "outputs": [],
   "source": [
    "from quantopian.pipeline.factors import SimpleMovingAverage, AverageDollarVolume"
   ]
  },
  {
   "cell_type": "code",
   "execution_count": 8,
   "metadata": {},
   "outputs": [],
   "source": [
    "dollar_volume = AverageDollarVolume(window_length = 30)"
   ]
  },
  {
   "cell_type": "code",
   "execution_count": 9,
   "metadata": {},
   "outputs": [],
   "source": [
    "high_dollar_volume = dollar_volume.percentile_between(90,100)"
   ]
  },
  {
   "cell_type": "code",
   "execution_count": 10,
   "metadata": {},
   "outputs": [],
   "source": [
    "top_open_prices = USEquityPricing.open.latest.top(50,mask=high_dollar_volume)"
   ]
  },
  {
   "cell_type": "code",
   "execution_count": 11,
   "metadata": {},
   "outputs": [],
   "source": [
    "high_close_price = USEquityPricing.close.latest.percentile_between(9,100,mask = top_open_prices)"
   ]
  },
  {
   "cell_type": "code",
   "execution_count": null,
   "metadata": {},
   "outputs": [],
   "source": []
  },
  {
   "cell_type": "code",
   "execution_count": null,
   "metadata": {},
   "outputs": [],
   "source": []
  },
  {
   "cell_type": "code",
   "execution_count": null,
   "metadata": {},
   "outputs": [],
   "source": []
  },
  {
   "cell_type": "code",
   "execution_count": 12,
   "metadata": {},
   "outputs": [],
   "source": [
    "def make_pipeline():\n",
    "    \n",
    "    # Universe Q1500US\n",
    "    base_universe = Q1500US()\n",
    "    # Energy Sector\n",
    "    energy_secotor = sector.eq(309)\n",
    "    \n",
    "    # Make Mask of 1500US and Energy\n",
    "    base_energy = base_universe & energy_sector\n",
    "    \n",
    "    # Dollar Volume (30 days) Grab the Info\n",
    "    dollar_volume = AverageDollarVolume(window_length=30)\n",
    "    \n",
    "    # Grab the top 5% in avg dollar volume\n",
    "    high_dollar_volume = dollar_volume.percentile_between(95,100)\n",
    "    \n",
    "    # combine filters\n",
    "    top_five_base_energy = base_energy & high_dollar_volume\n",
    "    # 10 day mean close\n",
    "    mean_10 = SimpleMovingAverage(inputs=[USEquityPricing.close],window_length = 10, mask = top_five_base_energy) \n",
    "    # 30 day mean close\n",
    "    mean_30 = SimpleMovingAverage(inputs=[USEquityPricing.close],window_length = 30, mask = top_five_base_energy) \n",
    "    # percent difference\n",
    "    percent_difference = (mean_10-mean_30)/mean_30\n",
    "    # list of shorts\n",
    "    shorts = percent_difference < 0 \n",
    "    # list of longs\n",
    "    longs = percent_difference > 0\n",
    "    # final mask/filter for anything in shorts or longs\n",
    "    securities_to_trade = (shorts | longs)\n",
    "    # return pipeline\n",
    "    return Pipeline(columns={\n",
    "        'longs': longs,\n",
    "        'shorts': shorts,\n",
    "        'perc_diff': percent_difference,\n",
    "    }, screen=securities_to_trade)"
   ]
  },
  {
   "cell_type": "code",
   "execution_count": 13,
   "metadata": {},
   "outputs": [
    {
     "data": {
      "application/vnd.jupyter.widget-view+json": {
       "model_id": "",
       "version_major": 2,
       "version_minor": 0
      },
      "text/plain": []
     },
     "metadata": {},
     "output_type": "display_data"
    },
    {
     "data": {
      "text/html": [
       "<b>Pipeline Execution Time:</b> 4.31 Seconds"
      ],
      "text/plain": [
       "<IPython.core.display.HTML object>"
      ]
     },
     "metadata": {},
     "output_type": "display_data"
    },
    {
     "data": {
      "text/html": [
       "<div>\n",
       "<table border=\"1\" class=\"dataframe\">\n",
       "  <thead>\n",
       "    <tr style=\"text-align: right;\">\n",
       "      <th></th>\n",
       "      <th></th>\n",
       "      <th>longs</th>\n",
       "      <th>perc_diff</th>\n",
       "      <th>shorts</th>\n",
       "    </tr>\n",
       "  </thead>\n",
       "  <tbody>\n",
       "    <tr>\n",
       "      <th rowspan=\"14\" valign=\"top\">2020-09-21 00:00:00+00:00</th>\n",
       "      <th>Equity(2564 [EOG])</th>\n",
       "      <td>False</td>\n",
       "      <td>-0.085366</td>\n",
       "      <td>True</td>\n",
       "    </tr>\n",
       "    <tr>\n",
       "      <th>Equity(3443 [HAL])</th>\n",
       "      <td>False</td>\n",
       "      <td>-0.058647</td>\n",
       "      <td>True</td>\n",
       "    </tr>\n",
       "    <tr>\n",
       "      <th>Equity(5035 [MRO])</th>\n",
       "      <td>False</td>\n",
       "      <td>-0.130577</td>\n",
       "      <td>True</td>\n",
       "    </tr>\n",
       "    <tr>\n",
       "      <th>Equity(5213 [NBL])</th>\n",
       "      <td>False</td>\n",
       "      <td>-0.062324</td>\n",
       "      <td>True</td>\n",
       "    </tr>\n",
       "    <tr>\n",
       "      <th>Equity(5729 [OXY])</th>\n",
       "      <td>False</td>\n",
       "      <td>-0.140149</td>\n",
       "      <td>True</td>\n",
       "    </tr>\n",
       "    <tr>\n",
       "      <th>Equity(6928 [SLB])</th>\n",
       "      <td>False</td>\n",
       "      <td>-0.028229</td>\n",
       "      <td>True</td>\n",
       "    </tr>\n",
       "    <tr>\n",
       "      <th>Equity(7990 [VLO])</th>\n",
       "      <td>False</td>\n",
       "      <td>-0.072782</td>\n",
       "      <td>True</td>\n",
       "    </tr>\n",
       "    <tr>\n",
       "      <th>Equity(8214 [WMB])</th>\n",
       "      <td>False</td>\n",
       "      <td>-0.010393</td>\n",
       "      <td>True</td>\n",
       "    </tr>\n",
       "    <tr>\n",
       "      <th>Equity(8347 [XOM])</th>\n",
       "      <td>False</td>\n",
       "      <td>-0.067783</td>\n",
       "      <td>True</td>\n",
       "    </tr>\n",
       "    <tr>\n",
       "      <th>Equity(23112 [CVX])</th>\n",
       "      <td>False</td>\n",
       "      <td>-0.060684</td>\n",
       "      <td>True</td>\n",
       "    </tr>\n",
       "    <tr>\n",
       "      <th>Equity(23998 [COP])</th>\n",
       "      <td>False</td>\n",
       "      <td>-0.078507</td>\n",
       "      <td>True</td>\n",
       "    </tr>\n",
       "    <tr>\n",
       "      <th>Equity(40852 [KMI])</th>\n",
       "      <td>False</td>\n",
       "      <td>-0.047815</td>\n",
       "      <td>True</td>\n",
       "    </tr>\n",
       "    <tr>\n",
       "      <th>Equity(41636 [MPC])</th>\n",
       "      <td>False</td>\n",
       "      <td>-0.083416</td>\n",
       "      <td>True</td>\n",
       "    </tr>\n",
       "    <tr>\n",
       "      <th>Equity(42788 [PSX])</th>\n",
       "      <td>False</td>\n",
       "      <td>-0.032906</td>\n",
       "      <td>True</td>\n",
       "    </tr>\n",
       "  </tbody>\n",
       "</table>\n",
       "</div>"
      ],
      "text/plain": [
       "                                               longs  perc_diff shorts\n",
       "2020-09-21 00:00:00+00:00 Equity(2564 [EOG])   False  -0.085366   True\n",
       "                          Equity(3443 [HAL])   False  -0.058647   True\n",
       "                          Equity(5035 [MRO])   False  -0.130577   True\n",
       "                          Equity(5213 [NBL])   False  -0.062324   True\n",
       "                          Equity(5729 [OXY])   False  -0.140149   True\n",
       "                          Equity(6928 [SLB])   False  -0.028229   True\n",
       "                          Equity(7990 [VLO])   False  -0.072782   True\n",
       "                          Equity(8214 [WMB])   False  -0.010393   True\n",
       "                          Equity(8347 [XOM])   False  -0.067783   True\n",
       "                          Equity(23112 [CVX])  False  -0.060684   True\n",
       "                          Equity(23998 [COP])  False  -0.078507   True\n",
       "                          Equity(40852 [KMI])  False  -0.047815   True\n",
       "                          Equity(41636 [MPC])  False  -0.083416   True\n",
       "                          Equity(42788 [PSX])  False  -0.032906   True"
      ]
     },
     "execution_count": 13,
     "metadata": {},
     "output_type": "execute_result"
    }
   ],
   "source": [
    "result = run_pipeline(make_pipeline(),'2020-09-21','2020-09-21')\n",
    "result"
   ]
  },
  {
   "cell_type": "code",
   "execution_count": null,
   "metadata": {},
   "outputs": [],
   "source": []
  }
 ],
 "metadata": {
  "kernelspec": {
   "display_name": "Python 3.5",
   "language": "python",
   "name": "py35"
  },
  "language_info": {
   "codemirror_mode": {
    "name": "ipython",
    "version": 3
   },
   "file_extension": ".py",
   "mimetype": "text/x-python",
   "name": "python",
   "nbconvert_exporter": "python",
   "pygments_lexer": "ipython3",
   "version": "3.5.10"
  }
 },
 "nbformat": 4,
 "nbformat_minor": 2
}
